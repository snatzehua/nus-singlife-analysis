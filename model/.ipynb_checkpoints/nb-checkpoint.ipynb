{
 "cells": [
  {
   "cell_type": "code",
   "execution_count": null,
   "metadata": {},
   "outputs": [],
   "source": [
    "import pandas as pd\n",
    "\n",
    "# Load the datasets\n",
    "agents = pd.read_csv(\"agents.csv\")\n",
    "policies = pd.read_csv(\"policies.csv\")\n",
    "clients = pd.read_csv(\"clients.csv\")\n",
    "\n",
    "# Display first few rows\n",
    "agents.head(), policies.head(), clients.head()"
   ]
  }
 ],
 "metadata": {
  "language_info": {
   "name": "python"
  },
  "orig_nbformat": 4
 },
 "nbformat": 4,
 "nbformat_minor": 2
}
